{
  "nbformat": 4,
  "nbformat_minor": 0,
  "metadata": {
    "colab": {
      "provenance": [],
      "authorship_tag": "ABX9TyNPYI1a5c/9Dzpi6HlCAknS",
      "include_colab_link": true
    },
    "kernelspec": {
      "name": "python3",
      "display_name": "Python 3"
    },
    "language_info": {
      "name": "python"
    }
  },
  "cells": [
    {
      "cell_type": "markdown",
      "metadata": {
        "id": "view-in-github",
        "colab_type": "text"
      },
      "source": [
        "<a href=\"https://colab.research.google.com/github/syedazainabshariq/Project_3-Guess-the-number-user-/blob/main/Project_3.ipynb\" target=\"_parent\"><img src=\"https://colab.research.google.com/assets/colab-badge.svg\" alt=\"Open In Colab\"/></a>"
      ]
    },
    {
      "cell_type": "markdown",
      "source": [
        "# Project 3\n",
        "## Guess the Number (user)"
      ],
      "metadata": {
        "id": "mgJyy490WSUA"
      }
    },
    {
      "cell_type": "code",
      "execution_count": null,
      "metadata": {
        "colab": {
          "base_uri": "https://localhost:8080/"
        },
        "id": "rfqkyaiEWLGJ",
        "outputId": "85e421f8-ce94-45a9-cfaa-49a5ee85a48d"
      },
      "outputs": [
        {
          "output_type": "stream",
          "name": "stdout",
          "text": [
            "Welcome to the Guess the Number Game!\n",
            "Think of a number between 1 and 100, and I will try to guess it.\n",
            "Respond with 'H' if my guess is too high, 'L' if it's too low, and 'C' if I guessed correctly.\n",
            "My guess is: 50\n",
            "Is my guess too High (H), too Low (L), or Correct (C)? H\n",
            "My guess is: 25\n",
            "Is my guess too High (H), too Low (L), or Correct (C)? L\n",
            "My guess is: 37\n",
            "Is my guess too High (H), too Low (L), or Correct (C)? L\n",
            "My guess is: 43\n",
            "Is my guess too High (H), too Low (L), or Correct (C)? L\n",
            "My guess is: 46\n",
            "Is my guess too High (H), too Low (L), or Correct (C)? L\n",
            "My guess is: 48\n",
            "Is my guess too High (H), too Low (L), or Correct (C)? L\n",
            "My guess is: 49\n",
            "Is my guess too High (H), too Low (L), or Correct (C)? L\n",
            "It seems there's an error in your responses. Let's try again!\n"
          ]
        }
      ],
      "source": [
        "def computer_guesses():\n",
        "    print(\"Welcome to the Guess the Number Game!\")\n",
        "    print(\"Think of a number between 1 and 100, and I will try to guess it.\")\n",
        "    print(\"Respond with 'H' if my guess is too high, 'L' if it's too low, and 'C' if I guessed correctly.\")\n",
        "\n",
        "    low = 1\n",
        "    high = 100\n",
        "    attempts = 0\n",
        "\n",
        "    while True:\n",
        "        if low > high:\n",
        "            print(\"It seems there's an error in your responses. Let's try again!\")\n",
        "            break\n",
        "\n",
        "        guess = (low + high) // 2\n",
        "        attempts += 1\n",
        "        print(f\"My guess is: {guess}\")\n",
        "\n",
        "        response = input(\"Is my guess too High (H), too Low (L), or Correct (C)? \").strip().upper()\n",
        "\n",
        "        if response == 'H':\n",
        "            high = guess - 1\n",
        "        elif response == 'L':\n",
        "            low = guess + 1\n",
        "        elif response == 'C':\n",
        "            print(f\"Yay! I guessed your number {guess} in {attempts} attempts.\")\n",
        "            break\n",
        "        else:\n",
        "            print(\"Invalid response. Please respond with 'H', 'L', or 'C'.\")\n",
        "\n",
        "computer_guesses()\n"
      ]
    }
  ]
}